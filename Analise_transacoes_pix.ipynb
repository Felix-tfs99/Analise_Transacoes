{
  "nbformat": 4,
  "nbformat_minor": 0,
  "metadata": {
    "colab": {
      "provenance": []
    },
    "kernelspec": {
      "name": "python3",
      "display_name": "Python 3"
    },
    "language_info": {
      "name": "python"
    }
  },
  "cells": [
    {
      "cell_type": "markdown",
      "source": [
        "# Análise de Transações PIX\n",
        "Metodologia: CRISP-DM - https://www.escoladnc.com.br/blog/data-science/metodologia-crisp-dm/\n",
        "### Objetivos\n",
        "- Limpar e pré-processar os dados das transações PIX\n",
        "- Analisar padrões de uso do PIX, tais como os canais mais utilizados e os valores de transação mais comuns\n",
        "- Usar o PySpark MLlib para treinar e avaliar um modelo de detecção de fraude\n",
        "- Avaliar o desempenho do modelo e fazer recomendações para melhorias futuras\n",
        "\n",
        "### Dados\n",
        "\n",
        "O conjunto de dados inclui as seguintes informações para cada transação:\n",
        "- Detalhes da transação: valor, tempo, remetente e receptor CPF/CNPJ, tipo\n",
        "- Etiqueta de fraude: uma variável binária que indica se a transação foi fraudulenta (1) ou não (0)\n",
        "\n",
        "### Tarefas\n",
        "- Normalização dos dados:\n",
        "  - O dataset que você lerá está em formato json.\n",
        "  ```json\n",
        "  {\n",
        "      \"id_transacao\": inteiro,\n",
        "      \"valor\": texto,\n",
        "      \"remetente\": {\n",
        "          \"nome\": texto,\n",
        "          \"banco\": texto,\n",
        "          \"tipo\": texto\n",
        "      },\n",
        "      \"destinatario\": {\n",
        "          \"nome\": texto,\n",
        "          \"banco\":texto,\n",
        "          \"tipo\": texto\n",
        "      },          \n",
        "      \"categoria\":texto,\n",
        "      \"chave_pix\":texto,\n",
        "      \"transaction_date\":texto,\n",
        "      \"fraude\":inteiro,\n",
        "  }\n",
        "    ```\n",
        "  - Será necessário fazer a transformação para formato colunar\n",
        "- Análise Exploratória de Dados: Use o PySpark para analisar padrões de uso do PIX:\n",
        "  - chaves pix mais usadas;\n",
        "  - os valores de transação mais comuns;\n",
        "  - distribuição dos valores de transação por hora e dia;\n",
        "  - quais bancos receberam mais transferências por dia;\n",
        "  - para qual tipo de pessoa (PF ou PJ) foram realizadas mais transações\n",
        "- Engenharia de Recursos: Apresentar novas características que podem ser úteis para a detecção de fraudes, tais como o número de transações feitas pelo mesmo remetente em um período de tempo específico.\n",
        "- Modelagem: Use o PySpark MLlib para treinar e detectar possíveis transações que contenham fraude.\n",
        "\n",
        "### Observação\n",
        "É importante notar que este é um caso simplificado, e em cenários do mundo real você teria que lidar com dados mais complexos, usar técnicas mais avançadas como métodos de conjuntos e considerar o conhecimento de domínio, bem como leis e regulamentos das instituições financeiras no Brasil."
      ],
      "metadata": {
        "id": "CUrfUdhmyVpV"
      }
    },
    {
      "cell_type": "markdown",
      "source": [
        "# Entendimento do Negócio\n",
        "Através da base de transações do pix o banco deseja entender qual é o perfil dos clientes que utilizam o pix, além de verificar possíveis transações que tenham fraude. Porém, eles tem um cliente específico que tem um relacionamento muito bom para o banco, por isso, você recebeu a base de transações de cliente dos últimos 2 anos e precisa a partir dela criar um relatório contendo as principais características das transações.\n",
        "\n",
        "\n",
        "Então, resumindo, temos dois principais objetivos para esse case:\n",
        "1. Obter valor a partir dos dados\n",
        "  - Para qual banco esse cliente mais transfere?\n",
        "  - Qual é a média de transferências por período que esse cliente faz?\n",
        "  - Baseando-se no valor das transferências, poderia dar um aumento de crédito?\n",
        "  - Para o que esse cliente mais usa as transferências?\n",
        "2. Executar um algoritmo de machine learning que identifique possíveis transações com fraude.\n",
        "3. Pós Processamento\n",
        "  - Defina ao mínimo cinco métricas de qualidade para seus dados\n",
        "  - Explique se os seus dados estão com uma boa qualidade"
      ],
      "metadata": {
        "id": "1qEUukChAJ1t"
      }
    },
    {
      "cell_type": "markdown",
      "source": [
        "# Preparação do Ambiente de Desenvolvimento"
      ],
      "metadata": {
        "id": "fpXPtmLKKxnk"
      }
    },
    {
      "cell_type": "code",
      "source": [
        "# Instalar a última versão do PySpark\n",
        "!pip install pyspark #==3.3.1\n",
        "\n",
        "# Instalar o NGROK\n",
        "!wget -qnc https://bin.equinox.io/c/4VmDzA7iaHb/ngrok-stable-linux-amd64.zip\n",
        "!unzip -n -q ngrok-stable-linux-amd64.zip\n",
        "\n",
        "# Autenticar a sessão do SparkUI com NGROK\n",
        "!./ngrok authtoken 2KBeQEmmd1YNlQ86GGKf3KFOkb3_6sQH7JEnvEhDxwn9A7WnT\n",
        "get_ipython().system_raw('./ngrok http 4050 &')\n",
        "!sleep 10\n",
        "!curl -s http://localhost:4040/api/tunnels | grep -Po 'public_url\":\"(?=https)\\K[^\"]*'"
      ],
      "metadata": {
        "colab": {
          "base_uri": "https://localhost:8080/"
        },
        "id": "AemsBhvdni-R",
        "outputId": "8dc68a82-e709-49d0-8563-06b4a967f088"
      },
      "execution_count": 2,
      "outputs": [
        {
          "output_type": "stream",
          "name": "stdout",
          "text": [
            "Collecting pyspark\n",
            "  Downloading pyspark-3.5.1.tar.gz (317.0 MB)\n",
            "\u001b[2K     \u001b[90m━━━━━━━━━━━━━━━━━━━━━━━━━━━━━━━━━━━━━━━━\u001b[0m \u001b[32m317.0/317.0 MB\u001b[0m \u001b[31m2.2 MB/s\u001b[0m eta \u001b[36m0:00:00\u001b[0m\n",
            "\u001b[?25h  Preparing metadata (setup.py) ... \u001b[?25l\u001b[?25hdone\n",
            "Requirement already satisfied: py4j==0.10.9.7 in /usr/local/lib/python3.10/dist-packages (from pyspark) (0.10.9.7)\n",
            "Building wheels for collected packages: pyspark\n",
            "  Building wheel for pyspark (setup.py) ... \u001b[?25l\u001b[?25hdone\n",
            "  Created wheel for pyspark: filename=pyspark-3.5.1-py2.py3-none-any.whl size=317488491 sha256=3e68c4a986ccfd4358be964d827903d283d83049e48b1d8dad991c623fa7c394\n",
            "  Stored in directory: /root/.cache/pip/wheels/80/1d/60/2c256ed38dddce2fdd93be545214a63e02fbd8d74fb0b7f3a6\n",
            "Successfully built pyspark\n",
            "Installing collected packages: pyspark\n",
            "Successfully installed pyspark-3.5.1\n",
            "Authtoken saved to configuration file: /root/.ngrok2/ngrok.yml\n"
          ]
        }
      ]
    },
    {
      "cell_type": "markdown",
      "source": [
        "# Data Undesrtanting\n",
        "\n",
        "Primeiramente, devemos entender tudo sobre a fonte dos dados\n",
        "- Como o dado chega até nós?\n",
        "- Qual formato virá?\n",
        "- Aonde o processamento será executado (AWS EMR, Cluster On-Premise)?\n",
        "- De quanto em quanto tempo eu preciso gerar esse relatório (mensal, diário, near-real time)?\n",
        "\n",
        "```json\n",
        "{\n",
        "  \"id_transacao\": inteiro,\n",
        "  \"valor\": texto,\n",
        "  \"remetente\": {\n",
        "      \"nome\": texto,\n",
        "      \"banco\": texto,\n",
        "      \"tipo\": texto\n",
        "  },\n",
        "  \"destinatario\": {\n",
        "      \"nome\": texto,\n",
        "      \"banco\":texto,\n",
        "      \"tipo\": texto\n",
        "  },\n",
        "  \"categoria\": texto,\n",
        "  \"transaction_date\":texto,\n",
        "  \"chave_pix\":texto,\n",
        "  \"fraude\":inteiro,\n",
        "}\n",
        "```\n",
        "\n"
      ],
      "metadata": {
        "id": "NFBKW-UUAMOo"
      }
    },
    {
      "cell_type": "markdown",
      "source": [
        "# Preparação dos Dados\n",
        "Agora é hora de começar a preparar os dados de acordo com as suas necessidades."
      ],
      "metadata": {
        "id": "KPvcwRICAPod"
      }
    },
    {
      "cell_type": "code",
      "source": [
        "# Bibliotecas\n",
        "from pyspark.sql import SparkSession\n",
        "from pyspark.sql.types import *\n",
        "from pyspark.sql.functions import *\n",
        "from pyspark.sql.functions import month, year, to_date\n",
        "from pyspark.ml import Pipeline\n",
        "from pyspark.ml.feature import VectorAssembler, StringIndexer\n",
        "from pyspark.ml.classification import LogisticRegression\n",
        "from pyspark.ml.evaluation import BinaryClassificationEvaluator\n",
        "from pyspark.sql.functions import floor"
      ],
      "metadata": {
        "id": "gil6BzD4pldo"
      },
      "execution_count": 91,
      "outputs": []
    },
    {
      "cell_type": "code",
      "source": [
        "# Iniciar a sessão spark\n",
        "spark = (\n",
        "  SparkSession.builder\n",
        "    .config('spark.ui.port', '4050')\n",
        "    .appName('AnalisePix')\n",
        "    .getOrCreate()\n",
        ")"
      ],
      "metadata": {
        "id": "ZX6w8qR_mtEf"
      },
      "execution_count": 3,
      "outputs": []
    },
    {
      "cell_type": "code",
      "source": [
        "caminho_json = '/content/case_final.json'\n",
        "\n",
        "schema_remetente_destinatario = StructType([\n",
        "    StructField('nome', StringType()),\n",
        "    StructField('banco', StringType()),\n",
        "    StructField('tipo', StringType())\n",
        "])\n",
        "\n",
        "schema_base_pix = StructType([\n",
        "    StructField('id_transacao', IntegerType()),\n",
        "    StructField('valor', DoubleType()),\n",
        "    StructField('remetente', schema_remetente_destinatario),\n",
        "    StructField('destinatario', schema_remetente_destinatario),\n",
        "    StructField('chave_pix', StringType()),\n",
        "    StructField('categoria', StringType()),\n",
        "    StructField('transaction_date', StringType()),\n",
        "    StructField('fraude', IntegerType())\n",
        "])"
      ],
      "metadata": {
        "id": "CZXhYyXpn9YZ"
      },
      "execution_count": 5,
      "outputs": []
    },
    {
      "cell_type": "code",
      "source": [
        "df = spark.read.json(\n",
        "    caminho_json,\n",
        "    schema = schema_base_pix,\n",
        "    timestampFormat = \"yyyy-MM-dd HH:mm:ss\"\n",
        ")"
      ],
      "metadata": {
        "id": "ysFfath4of4w"
      },
      "execution_count": 65,
      "outputs": []
    },
    {
      "cell_type": "code",
      "source": [
        "df.printSchema()"
      ],
      "metadata": {
        "colab": {
          "base_uri": "https://localhost:8080/"
        },
        "id": "3iTRejjWqPvX",
        "outputId": "1b188618-c8c0-4b12-fd34-868dc8cf7bfd"
      },
      "execution_count": 66,
      "outputs": [
        {
          "output_type": "stream",
          "name": "stdout",
          "text": [
            "root\n",
            " |-- id_transacao: integer (nullable = true)\n",
            " |-- valor: double (nullable = true)\n",
            " |-- remetente: struct (nullable = true)\n",
            " |    |-- nome: string (nullable = true)\n",
            " |    |-- banco: string (nullable = true)\n",
            " |    |-- tipo: string (nullable = true)\n",
            " |-- destinatario: struct (nullable = true)\n",
            " |    |-- nome: string (nullable = true)\n",
            " |    |-- banco: string (nullable = true)\n",
            " |    |-- tipo: string (nullable = true)\n",
            " |-- chave_pix: string (nullable = true)\n",
            " |-- categoria: string (nullable = true)\n",
            " |-- transaction_date: string (nullable = true)\n",
            " |-- fraude: integer (nullable = true)\n",
            "\n"
          ]
        }
      ]
    },
    {
      "cell_type": "code",
      "source": [
        "df.show()"
      ],
      "metadata": {
        "colab": {
          "base_uri": "https://localhost:8080/"
        },
        "id": "P6R3zngTqE_j",
        "outputId": "255031fb-fa46-484d-c75c-fcc4a044da4e"
      },
      "execution_count": 68,
      "outputs": [
        {
          "output_type": "stream",
          "name": "stdout",
          "text": [
            "+------------+------------------+--------------------+--------------------+---------+-------------+-------------------+------+\n",
            "|id_transacao|             valor|           remetente|        destinatario|chave_pix|    categoria|   transaction_date|fraude|\n",
            "+------------+------------------+--------------------+--------------------+---------+-------------+-------------------+------+\n",
            "|        1000|            588.08|{Jonathan Gonsalv...|{Calebe Melo, Cai...|aleatoria|       outros|2021-07-16 05:00:55|     0|\n",
            "|        1001|           80682.5|{Jonathan Gonsalv...|{Davi Lucas Perei...|  celular|transferencia|2022-04-20 12:34:01|     1|\n",
            "|        1002|             549.9|{Jonathan Gonsalv...|{Sabrina Castro, ...|      cpf|        lazer|2022-07-10 16:51:34|     0|\n",
            "|        1003|             90.83|{Jonathan Gonsalv...|{Francisco da Con...|aleatoria|   transporte|2022-10-20 10:57:36|     0|\n",
            "|        1004|13272.619999999999|{Jonathan Gonsalv...|{Isabelly Ferreir...|    email|transferencia|2021-04-06 20:26:51|     0|\n",
            "|        1005|           9347.58|{Jonathan Gonsalv...|{Srta. Maria da C...|aleatoria|        saude|2022-07-24 15:22:27|     0|\n",
            "|        1006|           7836.76|{Jonathan Gonsalv...|{Catarina Duarte,...|      cpf|    presentes|2022-10-05 19:20:24|     0|\n",
            "|        1007|           3883.62|{Jonathan Gonsalv...|{Vitor Correia, X...|      cpf|    vestuario|2021-04-24 17:36:34|     0|\n",
            "|        1008|               4.0|{Jonathan Gonsalv...|{Theo Novaes, C6,...|aleatoria|        saude|2021-11-16 21:46:47|     0|\n",
            "|        1009|              24.3|{Jonathan Gonsalv...|{Isabel Caldeira,...|      cpf|transferencia|2021-07-26 02:08:49|     0|\n",
            "|        1010|           87555.3|{Jonathan Gonsalv...|{Sr. Henrique Car...|aleatoria|transferencia|2022-03-14 15:34:45|     1|\n",
            "|        1011|          21345.91|{Jonathan Gonsalv...|{Felipe Cavalcant...|      cpf|transferencia|2021-10-31 04:31:51|     1|\n",
            "|        1012|          73605.85|{Jonathan Gonsalv...|{Dr. Davi da Luz,...|  celular|transferencia|2021-04-30 19:19:56|     1|\n",
            "|        1013|             93.53|{Jonathan Gonsalv...|{Stephany Cardoso...|      cpf|  alimentacao|2023-01-13 13:39:57|     0|\n",
            "|        1014|            564.11|{Jonathan Gonsalv...|{Sra. Julia Arauj...|aleatoria|    vestuario|2022-05-27 23:06:08|     0|\n",
            "|        1015|              3.59|{Jonathan Gonsalv...|{Carolina Farias,...|    email|        saude|2021-10-06 21:19:58|     0|\n",
            "|        1016|          19164.89|{Jonathan Gonsalv...|{Isabelly da Cost...|    email|  alimentacao|2022-03-06 17:59:43|     0|\n",
            "|        1017|             68.45|{Jonathan Gonsalv...|{Joao Miguel Silv...|aleatoria|    vestuario|2022-04-01 18:17:40|     0|\n",
            "|        1018|            941.25|{Jonathan Gonsalv...|{Matheus Moura, C...|  celular|    vestuario|2022-05-23 00:28:13|     0|\n",
            "|        1019|27009.910000000003|{Jonathan Gonsalv...|{Gabrielly Goncal...|    email|transferencia|2021-08-04 23:22:37|     1|\n",
            "+------------+------------------+--------------------+--------------------+---------+-------------+-------------------+------+\n",
            "only showing top 20 rows\n",
            "\n"
          ]
        }
      ]
    },
    {
      "cell_type": "code",
      "source": [
        "# Criando o DataFrame Flatten\n",
        "\n",
        "df_flatten = df.withColumns({\n",
        "    'remetente_nome': col('remetente').getField('nome'),\n",
        "    'remetente_banco':  col('remetente').getField('banco'),\n",
        "    'remetente_tipo': col('remetente').getField('tipo'),\n",
        "    'destinatario_nome': col('destinatario').getField('nome'),\n",
        "    'destinatario_banco': col('destinatario').getField('banco'),\n",
        "    'destinatario_tipo': col('destinatario').getField('tipo')\n",
        "}).drop('remetente', 'destinatario')"
      ],
      "metadata": {
        "id": "2RsW5nRaqV53"
      },
      "execution_count": 69,
      "outputs": []
    },
    {
      "cell_type": "code",
      "source": [
        "df_flatten.show()"
      ],
      "metadata": {
        "colab": {
          "base_uri": "https://localhost:8080/"
        },
        "id": "glPuqfq_ruDe",
        "outputId": "e4ee2d6a-3221-4fe9-ceaa-a43923f859f4"
      },
      "execution_count": 70,
      "outputs": [
        {
          "output_type": "stream",
          "name": "stdout",
          "text": [
            "+------------+------------------+---------+-------------+-------------------+------+------------------+---------------+--------------+--------------------+------------------+-----------------+\n",
            "|id_transacao|             valor|chave_pix|    categoria|   transaction_date|fraude|    remetente_nome|remetente_banco|remetente_tipo|   destinatario_nome|destinatario_banco|destinatario_tipo|\n",
            "+------------+------------------+---------+-------------+-------------------+------+------------------+---------------+--------------+--------------------+------------------+-----------------+\n",
            "|        1000|            588.08|aleatoria|       outros|2021-07-16 05:00:55|     0|Jonathan Gonsalves|            BTG|            PF|         Calebe Melo|             Caixa|               PF|\n",
            "|        1001|           80682.5|  celular|transferencia|2022-04-20 12:34:01|     1|Jonathan Gonsalves|            BTG|            PF|  Davi Lucas Pereira|             Caixa|               PJ|\n",
            "|        1002|             549.9|      cpf|        lazer|2022-07-10 16:51:34|     0|Jonathan Gonsalves|            BTG|            PF|      Sabrina Castro|            Nubank|               PF|\n",
            "|        1003|             90.83|aleatoria|   transporte|2022-10-20 10:57:36|     0|Jonathan Gonsalves|            BTG|            PF|Francisco da Conc...|            Nubank|               PJ|\n",
            "|        1004|13272.619999999999|    email|transferencia|2021-04-06 20:26:51|     0|Jonathan Gonsalves|            BTG|            PF|   Isabelly Ferreira|               BTG|               PJ|\n",
            "|        1005|           9347.58|aleatoria|        saude|2022-07-24 15:22:27|     0|Jonathan Gonsalves|            BTG|            PF|Srta. Maria da Cunha|              Itau|               PJ|\n",
            "|        1006|           7836.76|      cpf|    presentes|2022-10-05 19:20:24|     0|Jonathan Gonsalves|            BTG|            PF|     Catarina Duarte|                C6|               PF|\n",
            "|        1007|           3883.62|      cpf|    vestuario|2021-04-24 17:36:34|     0|Jonathan Gonsalves|            BTG|            PF|       Vitor Correia|                XP|               PJ|\n",
            "|        1008|               4.0|aleatoria|        saude|2021-11-16 21:46:47|     0|Jonathan Gonsalves|            BTG|            PF|         Theo Novaes|                C6|               PJ|\n",
            "|        1009|              24.3|      cpf|transferencia|2021-07-26 02:08:49|     0|Jonathan Gonsalves|            BTG|            PF|     Isabel Caldeira|                XP|               PJ|\n",
            "|        1010|           87555.3|aleatoria|transferencia|2022-03-14 15:34:45|     1|Jonathan Gonsalves|            BTG|            PF|Sr. Henrique Cardoso|            Nubank|               PF|\n",
            "|        1011|          21345.91|      cpf|transferencia|2021-10-31 04:31:51|     1|Jonathan Gonsalves|            BTG|            PF|   Felipe Cavalcanti|            Nubank|               PJ|\n",
            "|        1012|          73605.85|  celular|transferencia|2021-04-30 19:19:56|     1|Jonathan Gonsalves|            BTG|            PF|     Dr. Davi da Luz|          Bradesco|               PJ|\n",
            "|        1013|             93.53|      cpf|  alimentacao|2023-01-13 13:39:57|     0|Jonathan Gonsalves|            BTG|            PF|    Stephany Cardoso|                C6|               PJ|\n",
            "|        1014|            564.11|aleatoria|    vestuario|2022-05-27 23:06:08|     0|Jonathan Gonsalves|            BTG|            PF|   Sra. Julia Araujo|              Itau|               PJ|\n",
            "|        1015|              3.59|    email|        saude|2021-10-06 21:19:58|     0|Jonathan Gonsalves|            BTG|            PF|     Carolina Farias|            Nubank|               PJ|\n",
            "|        1016|          19164.89|    email|  alimentacao|2022-03-06 17:59:43|     0|Jonathan Gonsalves|            BTG|            PF|   Isabelly da Costa|            Nubank|               PJ|\n",
            "|        1017|             68.45|aleatoria|    vestuario|2022-04-01 18:17:40|     0|Jonathan Gonsalves|            BTG|            PF|Joao Miguel Silveira|                C6|               PJ|\n",
            "|        1018|            941.25|  celular|    vestuario|2022-05-23 00:28:13|     0|Jonathan Gonsalves|            BTG|            PF|       Matheus Moura|                C6|               PF|\n",
            "|        1019|27009.910000000003|    email|transferencia|2021-08-04 23:22:37|     1|Jonathan Gonsalves|            BTG|            PF| Gabrielly Goncalves|              Itau|               PJ|\n",
            "+------------+------------------+---------+-------------+-------------------+------+------------------+---------------+--------------+--------------------+------------------+-----------------+\n",
            "only showing top 20 rows\n",
            "\n"
          ]
        }
      ]
    },
    {
      "cell_type": "code",
      "source": [
        "df_flatten.describe().show()"
      ],
      "metadata": {
        "colab": {
          "base_uri": "https://localhost:8080/"
        },
        "id": "lQeTcOkGsFzY",
        "outputId": "c5413833-30de-4f38-b7c2-5979dbedc002"
      },
      "execution_count": 20,
      "outputs": [
        {
          "output_type": "stream",
          "name": "stdout",
          "text": [
            "+-------+-----------------+------------------+---------+-----------+-------------------+------------------+------------------+---------------+--------------+-----------------+------------------+-----------------+\n",
            "|summary|     id_transacao|             valor|chave_pix|  categoria|   transaction_date|            fraude|    remetente_nome|remetente_banco|remetente_tipo|destinatario_nome|destinatario_banco|destinatario_tipo|\n",
            "+-------+-----------------+------------------+---------+-----------+-------------------+------------------+------------------+---------------+--------------+-----------------+------------------+-----------------+\n",
            "|  count|           100000|            100000|   100000|     100000|             100000|            100000|            100000|         100000|        100000|           100000|            100000|           100000|\n",
            "|   mean|          50999.5|10303.358732200059|     NULL|       NULL|               NULL|           0.15367|              NULL|           NULL|          NULL|             NULL|              NULL|             NULL|\n",
            "| stddev|28867.65779668774| 20874.99768875586|     NULL|       NULL|               NULL|0.3606339302787737|              NULL|           NULL|          NULL|             NULL|              NULL|             NULL|\n",
            "|    min|             1000|               0.0|aleatoria|alimentacao|2021-01-14 15:37:45|                 0|Jonathan Gonsalves|            BTG|            PF|   Agatha Almeida|               BTG|               PF|\n",
            "|    max|           100999|          89996.33|    email|  vestuario|2023-01-15 02:51:10|                 1|Jonathan Gonsalves|            BTG|            PF|   Yuri das Neves|                XP|               PJ|\n",
            "+-------+-----------------+------------------+---------+-----------+-------------------+------------------+------------------+---------------+--------------+-----------------+------------------+-----------------+\n",
            "\n"
          ]
        }
      ]
    },
    {
      "cell_type": "markdown",
      "source": [
        "# Modelagem\n",
        "Aqui você encontrará utilidade para os dados levantados.\n",
        "\n",
        "Aqui será onde teremos insights e, a partir desses, novos conhecimentos sobre o business (se tudo até aqui foi feito corretamente).\n",
        "\n",
        "\n",
        "- Para qual banco esse cliente mais transfere?\n",
        "- Qual é a média de transferências por período que esse cliente faz?\n",
        "- Baseando-se no valor das transferências, poderia dar um aumento de crédito?\n",
        "- Para o que esse cliente mais usa as transferências?\n",
        "- Executar um algoritmo de machine learning que identifique possíveis transações com fraude.\n"
      ],
      "metadata": {
        "id": "tnOJ5pwHARTD"
      }
    },
    {
      "cell_type": "code",
      "source": [
        "# Bancos que o cliente mais transfere\n",
        "df_flatten.groupby('destinatario_banco').count().orderBy('count').show()"
      ],
      "metadata": {
        "colab": {
          "base_uri": "https://localhost:8080/"
        },
        "id": "s-Z-BIrFsuxz",
        "outputId": "ec01688a-14a3-4e1f-e900-526acd1b5f53"
      },
      "execution_count": 23,
      "outputs": [
        {
          "output_type": "stream",
          "name": "stdout",
          "text": [
            "+------------------+-----+\n",
            "|destinatario_banco|count|\n",
            "+------------------+-----+\n",
            "|          Bradesco|14187|\n",
            "|                C6|14204|\n",
            "|             Caixa|14240|\n",
            "|              Itau|14281|\n",
            "|            Nubank|14297|\n",
            "|               BTG|14390|\n",
            "|                XP|14401|\n",
            "+------------------+-----+\n",
            "\n"
          ]
        }
      ]
    },
    {
      "cell_type": "code",
      "source": [
        "df_flatten.groupby(\n",
        "    date_format(\"transaction_date\", \"yyyy-MM\").alias('ano_mes'),\n",
        "    'destinatario_banco'\n",
        ").count().orderBy(col('ano_mes').desc()).show()"
      ],
      "metadata": {
        "id": "3qzNwK6RyuHx"
      },
      "execution_count": null,
      "outputs": []
    },
    {
      "cell_type": "code",
      "source": [
        "# Média de transferências por período\n",
        "df_flatten.groupby(\n",
        "    'destinatario_banco'\n",
        ").avg('valor').orderBy('avg(valor)').show()\n"
      ],
      "metadata": {
        "colab": {
          "base_uri": "https://localhost:8080/"
        },
        "id": "5lBPP1TOuiMQ",
        "outputId": "60dcfb93-f2a4-442f-fa03-e866ac5b63e5"
      },
      "execution_count": 46,
      "outputs": [
        {
          "output_type": "stream",
          "name": "stdout",
          "text": [
            "+------------------+------------------+\n",
            "|destinatario_banco|        avg(valor)|\n",
            "+------------------+------------------+\n",
            "|               BTG|10122.299803335622|\n",
            "|              Itau|10230.876305580874|\n",
            "|             Caixa|10254.864015449395|\n",
            "|                C6|10309.499774711307|\n",
            "|            Nubank|10316.475401133126|\n",
            "|                XP|10328.071572113045|\n",
            "|          Bradesco| 10564.19458870794|\n",
            "+------------------+------------------+\n",
            "\n"
          ]
        }
      ]
    },
    {
      "cell_type": "code",
      "source": [
        "# Média de transferências por período\n",
        "df_flatten.groupby(\n",
        "    date_format(\"transaction_date\", \"yyyy-MM\").alias('ano_mes'),\n",
        "    'destinatario_banco'\n",
        ").avg('valor').orderBy(col('avg(valor)').desc()).show()\n"
      ],
      "metadata": {
        "colab": {
          "base_uri": "https://localhost:8080/"
        },
        "id": "L4BQDLzvyrDS",
        "outputId": "e8ee7ab2-7313-4ab8-ba94-65a7608f0588"
      },
      "execution_count": 48,
      "outputs": [
        {
          "output_type": "stream",
          "name": "stdout",
          "text": [
            "+-------+------------------+------------------+\n",
            "|ano_mes|destinatario_banco|        avg(valor)|\n",
            "+-------+------------------+------------------+\n",
            "|2022-01|          Bradesco|12820.046042692942|\n",
            "|2022-08|               BTG|12564.292077702705|\n",
            "|2022-04|                XP|12263.473821548825|\n",
            "|2022-10|              Itau| 12217.11777969019|\n",
            "|2021-08|          Bradesco|12158.968752052559|\n",
            "|2022-07|                C6|12062.153634812286|\n",
            "|2022-08|              Itau|11801.010616883113|\n",
            "|2022-08|             Caixa|11733.853470394733|\n",
            "|2021-12|                C6|11687.408390243903|\n",
            "|2021-10|          Bradesco|11643.334805825241|\n",
            "|2023-01|             Caixa|11642.769566787007|\n",
            "|2022-01|               BTG|11638.974383775358|\n",
            "|2021-10|                C6|11603.620265339967|\n",
            "|2022-05|          Bradesco|11524.133602584816|\n",
            "|2021-09|          Bradesco| 11446.30193661971|\n",
            "|2021-08|               BTG|11441.186908212561|\n",
            "|2022-03|            Nubank| 11435.54794567062|\n",
            "|2021-12|          Bradesco|11400.090463576154|\n",
            "|2022-09|          Bradesco|11371.888523489926|\n",
            "|2021-06|                XP|11367.009999999998|\n",
            "+-------+------------------+------------------+\n",
            "only showing top 20 rows\n",
            "\n"
          ]
        }
      ]
    },
    {
      "cell_type": "code",
      "source": [
        "# Uso das transferências\n",
        "df_flatten.groupby(\n",
        "    date_format(\"transaction_date\", \"yyyy-MM\").alias('ano_mes'),\n",
        "    'destinatario_banco',\n",
        "    'categoria'\n",
        ").count().orderBy('count').show()"
      ],
      "metadata": {
        "colab": {
          "base_uri": "https://localhost:8080/"
        },
        "id": "Wz7nGzzrt0a4",
        "outputId": "b48b6272-8e41-481e-dcc6-cbafe64114bf"
      },
      "execution_count": 49,
      "outputs": [
        {
          "output_type": "stream",
          "name": "stdout",
          "text": [
            "+-------+------------------+-----------+-----+\n",
            "|ano_mes|destinatario_banco|  categoria|count|\n",
            "+-------+------------------+-----------+-----+\n",
            "|2023-01|              Itau| transporte|   15|\n",
            "|2023-01|              Itau|  presentes|   15|\n",
            "|2023-01|              Itau|  vestuario|   19|\n",
            "|2023-01|          Bradesco|  presentes|   20|\n",
            "|2023-01|             Caixa|     outros|   20|\n",
            "|2021-01|          Bradesco|  presentes|   21|\n",
            "|2023-01|             Caixa|      lazer|   21|\n",
            "|2021-01|                C6| transporte|   21|\n",
            "|2023-01|            Nubank|   educacao|   21|\n",
            "|2023-01|                XP|alimentacao|   21|\n",
            "|2021-01|              Itau|  presentes|   21|\n",
            "|2023-01|                C6|  presentes|   21|\n",
            "|2023-01|             Caixa|  vestuario|   21|\n",
            "|2023-01|                XP|      saude|   21|\n",
            "|2023-01|            Nubank|alimentacao|   22|\n",
            "|2023-01|          Bradesco|     outros|   22|\n",
            "|2021-01|               BTG|     outros|   22|\n",
            "|2023-01|               BTG|  presentes|   22|\n",
            "|2023-01|               BTG| transporte|   22|\n",
            "|2023-01|          Bradesco|      saude|   23|\n",
            "+-------+------------------+-----------+-----+\n",
            "only showing top 20 rows\n",
            "\n"
          ]
        }
      ]
    },
    {
      "cell_type": "code",
      "source": [
        "# Uso das transferências\n",
        "df_flatten.groupby(\n",
        "    date_format(\"transaction_date\", \"yyyy\").alias('ano'),\n",
        "    'categoria'\n",
        ").sum('valor').select('ano', 'categoria', col('sum(valor)').cast(DecimalType(38,3)).alias('valor')).orderBy(col('valor').desc()).show()"
      ],
      "metadata": {
        "colab": {
          "base_uri": "https://localhost:8080/"
        },
        "id": "Cn8yCH5nzo2G",
        "outputId": "5d8edce8-56ea-4ac9-caa5-2640450ef8df"
      },
      "execution_count": 54,
      "outputs": [
        {
          "output_type": "stream",
          "name": "stdout",
          "text": [
            "+----+-------------+-------------+\n",
            "| ano|    categoria|        valor|\n",
            "+----+-------------+-------------+\n",
            "|2022|transferencia|430191098.790|\n",
            "|2021|transferencia|416670741.700|\n",
            "|2023|transferencia| 16148682.620|\n",
            "|2022|    vestuario| 10696006.480|\n",
            "|2022|       outros| 10566645.100|\n",
            "|2022|   transporte| 10553408.290|\n",
            "|2022|  alimentacao| 10545783.230|\n",
            "|2021|    presentes| 10496042.020|\n",
            "|2021|    vestuario| 10412651.930|\n",
            "|2021|        saude| 10384662.820|\n",
            "|2022|     educacao| 10367124.440|\n",
            "|2022|    presentes| 10311585.740|\n",
            "|2022|        lazer| 10295747.630|\n",
            "|2021|  alimentacao| 10237928.250|\n",
            "|2021|     educacao| 10106095.070|\n",
            "|2022|        saude| 10048245.070|\n",
            "|2021|       outros|  9737076.380|\n",
            "|2021|        lazer|  9622503.140|\n",
            "|2021|   transporte|  9497893.470|\n",
            "|2023|       outros|   501308.340|\n",
            "+----+-------------+-------------+\n",
            "only showing top 20 rows\n",
            "\n"
          ]
        }
      ]
    },
    {
      "cell_type": "code",
      "source": [
        "# Categoria que possui fraude\n",
        "df_flatten.groupby('categoria', 'fraude').count().show()"
      ],
      "metadata": {
        "colab": {
          "base_uri": "https://localhost:8080/"
        },
        "id": "C_r5gvsb1P57",
        "outputId": "750af996-e372-4cab-f402-3d9ac7c13c5a"
      },
      "execution_count": 55,
      "outputs": [
        {
          "output_type": "stream",
          "name": "stdout",
          "text": [
            "+-------------+------+-----+\n",
            "|    categoria|fraude|count|\n",
            "+-------------+------+-----+\n",
            "|       outros|     0| 9377|\n",
            "|     educacao|     0| 9460|\n",
            "|transferencia|     0| 9377|\n",
            "|transferencia|     1|15367|\n",
            "|    presentes|     0| 9254|\n",
            "|        saude|     0| 9476|\n",
            "|        lazer|     0| 9464|\n",
            "|   transporte|     0| 9174|\n",
            "|    vestuario|     0| 9503|\n",
            "|  alimentacao|     0| 9548|\n",
            "+-------------+------+-----+\n",
            "\n"
          ]
        }
      ]
    },
    {
      "cell_type": "code",
      "source": [
        "df_flatten.filter(\n",
        "    col('categoria') == 'transferencia'\n",
        ").groupby('categoria', 'fraude').count().show()"
      ],
      "metadata": {
        "colab": {
          "base_uri": "https://localhost:8080/"
        },
        "id": "iNEtHmiZ1vB3",
        "outputId": "a079488e-9d82-4872-8b1f-de3f27d93cfe"
      },
      "execution_count": 71,
      "outputs": [
        {
          "output_type": "stream",
          "name": "stdout",
          "text": [
            "+-------------+------+-----+\n",
            "|    categoria|fraude|count|\n",
            "+-------------+------+-----+\n",
            "|transferencia|     0| 9377|\n",
            "|transferencia|     1|15367|\n",
            "+-------------+------+-----+\n",
            "\n"
          ]
        }
      ]
    },
    {
      "cell_type": "code",
      "source": [
        "# Coluna com Ranges de valores de fraude\n",
        "df_flatten.filter(col('fraude') == 1).withColumn(\n",
        "    'range',\n",
        "    floor(col(\"valor\")/1000)*1000\n",
        ").groupBy('range').count().orderBy(col('range').desc()).show()"
      ],
      "metadata": {
        "colab": {
          "base_uri": "https://localhost:8080/"
        },
        "id": "Af0jUFoy24gi",
        "outputId": "b1bf52ee-95a4-4b25-af10-d89b3dca306e"
      },
      "execution_count": 72,
      "outputs": [
        {
          "output_type": "stream",
          "name": "stdout",
          "text": [
            "+-----+-----+\n",
            "|range|count|\n",
            "+-----+-----+\n",
            "|89000|  222|\n",
            "|88000|  208|\n",
            "|87000|  230|\n",
            "|86000|  203|\n",
            "|85000|  205|\n",
            "|84000|  245|\n",
            "|83000|  206|\n",
            "|82000|  206|\n",
            "|81000|  214|\n",
            "|80000|  213|\n",
            "|79000|  205|\n",
            "|78000|  230|\n",
            "|77000|  237|\n",
            "|76000|  232|\n",
            "|75000|  190|\n",
            "|74000|  207|\n",
            "|73000|  237|\n",
            "|72000|  234|\n",
            "|71000|  234|\n",
            "|70000|  222|\n",
            "+-----+-----+\n",
            "only showing top 20 rows\n",
            "\n"
          ]
        }
      ]
    },
    {
      "cell_type": "code",
      "source": [
        "df_flatten.filter(col('fraude') == 1).withColumn(\n",
        "    'range',\n",
        "    floor(col(\"valor\")/1000)*1000\n",
        ").select(max('range'), min('range')).show()"
      ],
      "metadata": {
        "colab": {
          "base_uri": "https://localhost:8080/"
        },
        "id": "88zTWdAz40DA",
        "outputId": "239de8a0-35a5-4311-9a49-0f942d69f1d9"
      },
      "execution_count": 74,
      "outputs": [
        {
          "output_type": "stream",
          "name": "stdout",
          "text": [
            "+----------+----------+\n",
            "|max(range)|min(range)|\n",
            "+----------+----------+\n",
            "|     89000|     19000|\n",
            "+----------+----------+\n",
            "\n"
          ]
        }
      ]
    },
    {
      "cell_type": "markdown",
      "source": [
        "## Modelo de Predição de Fraudes"
      ],
      "metadata": {
        "id": "rIVX81NQzsoZ"
      }
    },
    {
      "cell_type": "code",
      "source": [
        "df = df_flatten.drop('remetente', 'id_transacao')"
      ],
      "metadata": {
        "id": "OfagqLHI6jXk"
      },
      "execution_count": 76,
      "outputs": []
    },
    {
      "cell_type": "code",
      "source": [
        "indexer = StringIndexer(\n",
        "    inputCols=[\n",
        "        \"destinatario_nome\",\n",
        "        \"destinatario_banco\",\n",
        "        \"destinatario_tipo\",\n",
        "        \"categoria\",\n",
        "        \"chave_pix\"\n",
        "              ],\n",
        "    outputCols=[\n",
        "        \"destinatario_nome_index\",\n",
        "        \"destinatario_banco_index\",\n",
        "        \"destinatario_tipo_index\",\n",
        "        \"categoria_index\",\n",
        "        \"chave_pix_index\"\n",
        "        ])"
      ],
      "metadata": {
        "id": "h4o25-iM5rZM"
      },
      "execution_count": 78,
      "outputs": []
    },
    {
      "cell_type": "code",
      "source": [
        "df_index = indexer.fit(df).transform(df)\n",
        "df_index.show()"
      ],
      "metadata": {
        "colab": {
          "base_uri": "https://localhost:8080/"
        },
        "id": "Dps8jH-N7OrZ",
        "outputId": "d1cafd37-81ce-41ac-9095-cc0fe73dabb4"
      },
      "execution_count": 79,
      "outputs": [
        {
          "output_type": "stream",
          "name": "stdout",
          "text": [
            "+------------------+---------+-------------+-------------------+------+------------------+---------------+--------------+--------------------+------------------+-----------------+-----------------------+------------------------+-----------------------+---------------+---------------+\n",
            "|             valor|chave_pix|    categoria|   transaction_date|fraude|    remetente_nome|remetente_banco|remetente_tipo|   destinatario_nome|destinatario_banco|destinatario_tipo|destinatario_nome_index|destinatario_banco_index|destinatario_tipo_index|categoria_index|chave_pix_index|\n",
            "+------------------+---------+-------------+-------------------+------+------------------+---------------+--------------+--------------------+------------------+-----------------+-----------------------+------------------------+-----------------------+---------------+---------------+\n",
            "|            588.08|aleatoria|       outros|2021-07-16 05:00:55|     0|Jonathan Gonsalves|            BTG|            PF|         Calebe Melo|             Caixa|               PF|                12045.0|                     4.0|                    1.0|            6.0|            3.0|\n",
            "|           80682.5|  celular|transferencia|2022-04-20 12:34:01|     1|Jonathan Gonsalves|            BTG|            PF|  Davi Lucas Pereira|             Caixa|               PJ|                  259.0|                     4.0|                    0.0|            0.0|            2.0|\n",
            "|             549.9|      cpf|        lazer|2022-07-10 16:51:34|     0|Jonathan Gonsalves|            BTG|            PF|      Sabrina Castro|            Nubank|               PF|                  132.0|                     2.0|                    1.0|            4.0|            1.0|\n",
            "|             90.83|aleatoria|   transporte|2022-10-20 10:57:36|     0|Jonathan Gonsalves|            BTG|            PF|Francisco da Conc...|            Nubank|               PJ|                10475.0|                     2.0|                    0.0|            8.0|            3.0|\n",
            "|13272.619999999999|    email|transferencia|2021-04-06 20:26:51|     0|Jonathan Gonsalves|            BTG|            PF|   Isabelly Ferreira|               BTG|               PJ|                 4159.0|                     1.0|                    0.0|            0.0|            0.0|\n",
            "|           9347.58|aleatoria|        saude|2022-07-24 15:22:27|     0|Jonathan Gonsalves|            BTG|            PF|Srta. Maria da Cunha|              Itau|               PJ|                26853.0|                     3.0|                    0.0|            3.0|            3.0|\n",
            "|           7836.76|      cpf|    presentes|2022-10-05 19:20:24|     0|Jonathan Gonsalves|            BTG|            PF|     Catarina Duarte|                C6|               PF|                 5578.0|                     5.0|                    1.0|            7.0|            1.0|\n",
            "|           3883.62|      cpf|    vestuario|2021-04-24 17:36:34|     0|Jonathan Gonsalves|            BTG|            PF|       Vitor Correia|                XP|               PJ|                13528.0|                     0.0|                    0.0|            2.0|            1.0|\n",
            "|               4.0|aleatoria|        saude|2021-11-16 21:46:47|     0|Jonathan Gonsalves|            BTG|            PF|         Theo Novaes|                C6|               PJ|                 1141.0|                     5.0|                    0.0|            3.0|            3.0|\n",
            "|              24.3|      cpf|transferencia|2021-07-26 02:08:49|     0|Jonathan Gonsalves|            BTG|            PF|     Isabel Caldeira|                XP|               PJ|                 8369.0|                     0.0|                    0.0|            0.0|            1.0|\n",
            "|           87555.3|aleatoria|transferencia|2022-03-14 15:34:45|     1|Jonathan Gonsalves|            BTG|            PF|Sr. Henrique Cardoso|            Nubank|               PF|                22115.0|                     2.0|                    1.0|            0.0|            3.0|\n",
            "|          21345.91|      cpf|transferencia|2021-10-31 04:31:51|     1|Jonathan Gonsalves|            BTG|            PF|   Felipe Cavalcanti|            Nubank|               PJ|                 5897.0|                     2.0|                    0.0|            0.0|            1.0|\n",
            "|          73605.85|  celular|transferencia|2021-04-30 19:19:56|     1|Jonathan Gonsalves|            BTG|            PF|     Dr. Davi da Luz|          Bradesco|               PJ|                12212.0|                     6.0|                    0.0|            0.0|            2.0|\n",
            "|             93.53|      cpf|  alimentacao|2023-01-13 13:39:57|     0|Jonathan Gonsalves|            BTG|            PF|    Stephany Cardoso|                C6|               PJ|                   10.0|                     5.0|                    0.0|            1.0|            1.0|\n",
            "|            564.11|aleatoria|    vestuario|2022-05-27 23:06:08|     0|Jonathan Gonsalves|            BTG|            PF|   Sra. Julia Araujo|              Itau|               PJ|                24413.0|                     3.0|                    0.0|            2.0|            3.0|\n",
            "|              3.59|    email|        saude|2021-10-06 21:19:58|     0|Jonathan Gonsalves|            BTG|            PF|     Carolina Farias|            Nubank|               PJ|                10121.0|                     2.0|                    0.0|            3.0|            0.0|\n",
            "|          19164.89|    email|  alimentacao|2022-03-06 17:59:43|     0|Jonathan Gonsalves|            BTG|            PF|   Isabelly da Costa|            Nubank|               PJ|                 6122.0|                     2.0|                    0.0|            1.0|            0.0|\n",
            "|             68.45|aleatoria|    vestuario|2022-04-01 18:17:40|     0|Jonathan Gonsalves|            BTG|            PF|Joao Miguel Silveira|                C6|               PJ|                 6214.0|                     5.0|                    0.0|            2.0|            3.0|\n",
            "|            941.25|  celular|    vestuario|2022-05-23 00:28:13|     0|Jonathan Gonsalves|            BTG|            PF|       Matheus Moura|                C6|               PF|                 1829.0|                     5.0|                    1.0|            2.0|            2.0|\n",
            "|27009.910000000003|    email|transferencia|2021-08-04 23:22:37|     1|Jonathan Gonsalves|            BTG|            PF| Gabrielly Goncalves|              Itau|               PJ|                 5973.0|                     3.0|                    0.0|            0.0|            0.0|\n",
            "+------------------+---------+-------------+-------------------+------+------------------+---------------+--------------+--------------------+------------------+-----------------+-----------------------+------------------------+-----------------------+---------------+---------------+\n",
            "only showing top 20 rows\n",
            "\n"
          ]
        }
      ]
    },
    {
      "cell_type": "code",
      "source": [
        "cols_para_filtrar = [\n",
        "    \"valor\",\n",
        "    \"transaction_date\",\n",
        "    \"destinatario_nome_index\",\n",
        "    \"destinatario_banco_index\",\n",
        "    \"destinatario_tipo_index\",\n",
        "    \"categoria_index\",\n",
        "    \"chave_pix_index\",\n",
        "    \"fraude\"\n",
        "]"
      ],
      "metadata": {
        "id": "t73_iOZp7d5R"
      },
      "execution_count": 80,
      "outputs": []
    },
    {
      "cell_type": "code",
      "source": [
        "is_fraud = df_index.select(cols_para_filtrar).filter(col('fraude') == 1)\n",
        "not_fraud = df_index.select(cols_para_filtrar).filter(col('fraude') == 0)\n",
        "\n",
        "# Separando uma amostra\n",
        "not_fraud = not_fraud.sample(False,fraction=0.1, seed=123)"
      ],
      "metadata": {
        "id": "eQos0tPq7we6"
      },
      "execution_count": 81,
      "outputs": []
    },
    {
      "cell_type": "code",
      "source": [
        "df_concat = not_fraud.union(is_fraud)\n",
        "df = df_concat.sort('transaction_date')\n",
        "df.count()"
      ],
      "metadata": {
        "colab": {
          "base_uri": "https://localhost:8080/"
        },
        "id": "moTK18UK8UvI",
        "outputId": "339b601c-9d69-4137-9a4f-fe76cd428473"
      },
      "execution_count": 83,
      "outputs": [
        {
          "output_type": "execute_result",
          "data": {
            "text/plain": [
              "23798"
            ]
          },
          "metadata": {},
          "execution_count": 83
        }
      ]
    },
    {
      "cell_type": "code",
      "source": [
        "train, test = df.randomSplit([0.7, 0.3], seed=123)\n",
        "print(\"Training Dataset Count: \" + str(train.count()))\n",
        "print(\"Test Dataset Count: \" + str(test.count()))"
      ],
      "metadata": {
        "colab": {
          "base_uri": "https://localhost:8080/"
        },
        "id": "cvsz_dgU8tqV",
        "outputId": "7a9e8f9f-bd75-4d67-a2f9-17dc4989ee5a"
      },
      "execution_count": 84,
      "outputs": [
        {
          "output_type": "stream",
          "name": "stdout",
          "text": [
            "Training Dataset Count: 16567\n",
            "Test Dataset Count: 7231\n"
          ]
        }
      ]
    },
    {
      "cell_type": "code",
      "source": [
        "is_fraud = udf(lambda fraud: 1.0 if fraud > 0 else 0.0, DoubleType())\n",
        "train = train.withColumn(\"is_fraud\", is_fraud(train.fraude))"
      ],
      "metadata": {
        "id": "Sr9TNbE587dw"
      },
      "execution_count": 86,
      "outputs": []
    },
    {
      "cell_type": "code",
      "source": [
        "# Criando feature vetores\n",
        "# VectorAssembler combina listas de colunas em um vetor simples\n",
        "assembler = VectorAssembler(\n",
        "    inputCols= [x for x in train.columns if x not in [\"transaction_date\", \"fraude\", \"is_fraud\"]],\n",
        "    outputCol = 'features')\n",
        "\n",
        "# Regressão Logistica\n",
        "lr = LogisticRegression().setParams(\n",
        "    maxIter= 100000,\n",
        "    labelCol = 'is_fraud',\n",
        "    predictionCol= 'prediction')\n",
        "\n",
        "# Define a pipeline do modelo\n",
        "model = Pipeline(stages=[assembler, lr]).fit(train)"
      ],
      "metadata": {
        "id": "FTFONg2N97UF"
      },
      "execution_count": 89,
      "outputs": []
    },
    {
      "cell_type": "code",
      "source": [
        "predicted = model.transform(test)\n",
        "\n",
        "# Resultado do modelo\n",
        "predicted = predicted.withColumn(\"is_fraud\", is_fraud(predicted.fraude))\n",
        "predicted.crosstab(\"is_fraud\", \"prediction\").show()"
      ],
      "metadata": {
        "colab": {
          "base_uri": "https://localhost:8080/"
        },
        "id": "LVGvThJeAQpE",
        "outputId": "8ae14757-de12-44a5-db1d-05be25b0c285"
      },
      "execution_count": 90,
      "outputs": [
        {
          "output_type": "stream",
          "name": "stdout",
          "text": [
            "+-------------------+----+----+\n",
            "|is_fraud_prediction| 0.0| 1.0|\n",
            "+-------------------+----+----+\n",
            "|                1.0|   0|4636|\n",
            "|                0.0|2594|   1|\n",
            "+-------------------+----+----+\n",
            "\n"
          ]
        }
      ]
    },
    {
      "cell_type": "markdown",
      "source": [
        "# Avaliação do Modelo\n",
        "Será que seu modelo atinge todas as necessidades que foram definidas inicialmente? (e.g. pessoa em cima da bicicleta muda o resultado final)\n",
        "\n"
      ],
      "metadata": {
        "id": "2zHoQJWtATfX"
      }
    },
    {
      "cell_type": "markdown",
      "source": [
        "# Deployment\n",
        "Apresente o relatório com os resultados obtidos.\n",
        "\n",
        "Foi identificado que o cliente Jonathan Gonsalves tem uma alta taxa de transaferências pix mensal. Através de análise realizadas foi possível perceber que a maior categoria de transação é a transferência bancária.\n",
        "\n",
        "Também foi possível notar que o segundo banco que o cliente mais transaciona é o banco BTG, porém, o mesmo possui o menor valor transacionado, o que indica que o cliente faz muitas transações de menor valor para esse banco.\n",
        "\n",
        "Também foi possível verificar que há um alto índice de tentativas de fraude na conta desse cliente, sendo que todas as tentativas de fraude foram com valores acima de R$19.999,00 e com a categoria de transferência. Por isso, foi criado um algoritimo de machine learning que identifica esses tipos de transações que contém fraude.\n",
        "\n",
        "\n",
        "Conclui-se que há uma alta tentativa de transações com fraude e uma ação possível seria diminuir o limite máximo de transferência de pix do cliente.Possivelmente o cliente esteja usando essa conta PF com propósitos de PJ, devido a alta taxa de transferências s altos valores.  \n",
        "\n",
        "\n",
        "\n",
        "\n",
        "  "
      ],
      "metadata": {
        "id": "JOTAB1JSAVPi"
      }
    },
    {
      "cell_type": "code",
      "source": [],
      "metadata": {
        "id": "kMg8jOKuBekL"
      },
      "execution_count": null,
      "outputs": []
    }
  ]
}